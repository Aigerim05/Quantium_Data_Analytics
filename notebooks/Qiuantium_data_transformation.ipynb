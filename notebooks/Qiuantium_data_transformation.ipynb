{
 "cells": [
  {
   "cell_type": "code",
   "execution_count": 15,
   "metadata": {},
   "outputs": [
    {
     "name": "stdout",
     "output_type": "stream",
     "text": [
      "0\n",
      "    PACK_SIZE      N\n",
      "0          70   1507\n",
      "1          90   3008\n",
      "2         110  22387\n",
      "3         125   1454\n",
      "4         134  25102\n",
      "5         135   3257\n",
      "6         150  43131\n",
      "7         160   2970\n",
      "8         165  15297\n",
      "9         170  19983\n",
      "10        175  66390\n",
      "11        180   1468\n",
      "12        190   2995\n",
      "13        200   4473\n",
      "14        210   6272\n",
      "15        220   1564\n",
      "16        250   3169\n",
      "17        270   6285\n",
      "18        300  15166\n",
      "19        330  12540\n",
      "20        380   6418\n"
     ]
    }
   ],
   "source": [
    "# Extracting pack sizes\n",
    "transaction_df.loc[:, \"PACK_SIZE\"] = transaction_df[\"PROD_NAME\"].str.extract(r\"(\\d+)[gG]\").astype(int)\n",
    "\n",
    "# Check the pack sizes \n",
    "print(transaction_df[\"PACK_SIZE\"].isnull().sum())  \n",
    "\n",
    "pack_size_counts = transaction_df.groupby(\"PACK_SIZE\").size().reset_index(name=\"N\").sort_values(by=\"PACK_SIZE\")\n",
    "print(pack_size_counts)"
   ]
  },
  {
   "cell_type": "code",
   "execution_count": 6,
   "metadata": {},
   "outputs": [
    {
     "data": {
      "text/plain": [
       "134617         RED\n",
       "34007      DORITOS\n",
       "232457      SMITHS\n",
       "149612         CCS\n",
       "194250         OLD\n",
       "142829       THINS\n",
       "252542     CHEETOS\n",
       "101777     DORITOS\n",
       "128520    SUNBITES\n",
       "135457    PRINGLES\n",
       "Name: BRAND, dtype: object"
      ]
     },
     "execution_count": 6,
     "metadata": {},
     "output_type": "execute_result"
    }
   ],
   "source": [
    "# Pack sizes seems sensible\n",
    "# Use first word in PROD_NAME to extract brand names \n",
    "\n",
    "transaction_df.loc[:, \"BRAND\"] = transaction_df[\"PROD_NAME\"].str.split().str[0].str.upper()\n",
    "transaction_df[\"BRAND\"].sample(10)"
   ]
  },
  {
   "cell_type": "code",
   "execution_count": 10,
   "metadata": {},
   "outputs": [
    {
     "data": {
      "text/plain": [
       "17444         KETTLE\n",
       "104059        SMITHS\n",
       "24835        GRNWVES\n",
       "163355        KETTLE\n",
       "17961       SUNBITES\n",
       "118629        SMITHS\n",
       "156161    WOOLWORTHS\n",
       "105036      TWISTIES\n",
       "257632     INFUZIONS\n",
       "92110         KETTLE\n",
       "Name: BRAND, dtype: object"
      ]
     },
     "execution_count": 10,
     "metadata": {},
     "output_type": "execute_result"
    }
   ],
   "source": [
    "# Correct brand names, e.g RED and RRD are the same brand\n",
    "\n",
    "brand_corrections = {\n",
    "    \"RED\": \"RRD\", \"SNBTS\": \"SUNBITES\", \"INFZNS\": \"INFUZIONS\", \"WW\": \"WOOLWORTHS\",\n",
    "    \"SMITH\": \"SMITHS\", \"NCC\": \"NATURAL\", \"DORITO\": \"DORITOS\", \"GRAIN\": \"GRNWVES\"\n",
    "}\n",
    "transaction_df.loc[:, \"BRAND\"] = transaction_df[\"BRAND\"].replace(brand_corrections)\n",
    "transaction_df[\"BRAND\"].sample(10)"
   ]
  },
  {
   "cell_type": "code",
   "execution_count": null,
   "metadata": {},
   "outputs": [],
   "source": [
    "# Merge transaction and customer data\n",
    "data = transaction_df.merge(purchase_df, on=\"LYLTY_CARD_NBR\", how=\"left\")\n",
    "data.to_csv(f\"final_data.csv\", index=False)"
   ]
  }
 ],
 "metadata": {
  "kernelspec": {
   "display_name": "env",
   "language": "python",
   "name": "python3"
  },
  "language_info": {
   "codemirror_mode": {
    "name": "ipython",
    "version": 3
   },
   "file_extension": ".py",
   "mimetype": "text/x-python",
   "name": "python",
   "nbconvert_exporter": "python",
   "pygments_lexer": "ipython3",
   "version": "3.13.2"
  }
 },
 "nbformat": 4,
 "nbformat_minor": 2
}
