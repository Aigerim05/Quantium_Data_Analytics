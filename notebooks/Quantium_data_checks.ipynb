{
 "cells": [
  {
   "cell_type": "code",
   "execution_count": 5,
   "metadata": {},
   "outputs": [],
   "source": [
    "import pandas as pd\n",
    "\n",
    "purchase_df = pd.read_csv(\"../data/QVI_purchase_behaviour.csv\")\n",
    "transaction_data = pd.read_excel(\"../data/QVI_transaction_data.xlsx\", sheet_name=None)"
   ]
  },
  {
   "cell_type": "code",
   "execution_count": 6,
   "metadata": {},
   "outputs": [
    {
     "data": {
      "text/plain": [
       "dict_keys(['in'])"
      ]
     },
     "execution_count": 6,
     "metadata": {},
     "output_type": "execute_result"
    }
   ],
   "source": [
    "transaction_data.keys()"
   ]
  },
  {
   "cell_type": "code",
   "execution_count": 7,
   "metadata": {},
   "outputs": [],
   "source": [
    "transaction_df = transaction_data['in']"
   ]
  },
  {
   "cell_type": "code",
   "execution_count": 8,
   "metadata": {},
   "outputs": [
    {
     "name": "stdout",
     "output_type": "stream",
     "text": [
      "<class 'pandas.core.frame.DataFrame'>\n",
      "RangeIndex: 264836 entries, 0 to 264835\n",
      "Data columns (total 8 columns):\n",
      " #   Column          Non-Null Count   Dtype  \n",
      "---  ------          --------------   -----  \n",
      " 0   DATE            264836 non-null  int64  \n",
      " 1   STORE_NBR       264836 non-null  int64  \n",
      " 2   LYLTY_CARD_NBR  264836 non-null  int64  \n",
      " 3   TXN_ID          264836 non-null  int64  \n",
      " 4   PROD_NBR        264836 non-null  int64  \n",
      " 5   PROD_NAME       264836 non-null  object \n",
      " 6   PROD_QTY        264836 non-null  int64  \n",
      " 7   TOT_SALES       264836 non-null  float64\n",
      "dtypes: float64(1), int64(6), object(1)\n",
      "memory usage: 16.2+ MB\n",
      "None\n",
      "    DATE  STORE_NBR  LYLTY_CARD_NBR  TXN_ID  PROD_NBR  \\\n",
      "0  43390          1            1000       1         5   \n",
      "1  43599          1            1307     348        66   \n",
      "2  43605          1            1343     383        61   \n",
      "3  43329          2            2373     974        69   \n",
      "4  43330          2            2426    1038       108   \n",
      "\n",
      "                                  PROD_NAME  PROD_QTY  TOT_SALES  \n",
      "0    Natural Chip        Compny SeaSalt175g         2        6.0  \n",
      "1                  CCs Nacho Cheese    175g         3        6.3  \n",
      "2    Smiths Crinkle Cut  Chips Chicken 170g         2        2.9  \n",
      "3    Smiths Chip Thinly  S/Cream&Onion 175g         5       15.0  \n",
      "4  Kettle Tortilla ChpsHny&Jlpno Chili 150g         3       13.8  \n"
     ]
    }
   ],
   "source": [
    "# Examining transaction data\n",
    "print(transaction_df.info())\n",
    "print(transaction_df.head())"
   ]
  },
  {
   "cell_type": "code",
   "execution_count": 9,
   "metadata": {},
   "outputs": [
    {
     "name": "stdout",
     "output_type": "stream",
     "text": [
      "<class 'pandas.core.frame.DataFrame'>\n",
      "RangeIndex: 72637 entries, 0 to 72636\n",
      "Data columns (total 3 columns):\n",
      " #   Column            Non-Null Count  Dtype \n",
      "---  ------            --------------  ----- \n",
      " 0   LYLTY_CARD_NBR    72637 non-null  int64 \n",
      " 1   LIFESTAGE         72637 non-null  object\n",
      " 2   PREMIUM_CUSTOMER  72637 non-null  object\n",
      "dtypes: int64(1), object(2)\n",
      "memory usage: 1.7+ MB\n",
      "None\n",
      "   LYLTY_CARD_NBR               LIFESTAGE PREMIUM_CUSTOMER\n",
      "0            1000   YOUNG SINGLES/COUPLES          Premium\n",
      "1            1002   YOUNG SINGLES/COUPLES       Mainstream\n",
      "2            1003          YOUNG FAMILIES           Budget\n",
      "3            1004   OLDER SINGLES/COUPLES       Mainstream\n",
      "4            1005  MIDAGE SINGLES/COUPLES       Mainstream\n"
     ]
    }
   ],
   "source": [
    "# Examining customer data\n",
    "print(purchase_df.info())\n",
    "print(purchase_df.head())"
   ]
  },
  {
   "cell_type": "code",
   "execution_count": 10,
   "metadata": {},
   "outputs": [
    {
     "name": "stdout",
     "output_type": "stream",
     "text": [
      "0        2018-10-17\n",
      "1        2019-05-14\n",
      "2        2019-05-20\n",
      "3        2018-08-17\n",
      "4        2018-08-18\n",
      "            ...    \n",
      "264831   2019-03-09\n",
      "264832   2018-08-13\n",
      "264833   2018-11-06\n",
      "264834   2018-12-27\n",
      "264835   2018-09-22\n",
      "Name: DATE, Length: 264836, dtype: datetime64[ns]\n"
     ]
    }
   ],
   "source": [
    "# converting \"DATE\" column to the readable format\n",
    "transaction_df[\"DATE\"] = pd.to_datetime(transaction_df[\"DATE\"], origin=\"1899-12-30\", unit=\"D\")\n",
    "print(transaction_df[\"DATE\"])"
   ]
  },
  {
   "cell_type": "code",
   "execution_count": 11,
   "metadata": {},
   "outputs": [
    {
     "name": "stdout",
     "output_type": "stream",
     "text": [
      "Counter({'Chips': 21, 'Smiths': 16, 'Crinkle': 14, 'Cut': 14, 'Kettle': 13, 'Cheese': 12, 'Salt': 12, 'Original': 10, 'Chip': 9, 'Salsa': 9, 'Doritos': 9, 'Corn': 8, 'Pringles': 8, 'RRD': 8, 'Chicken': 7, 'Cream': 7, 'Chilli': 7, 'WW': 7, 'Sour': 6, 'Sea': 6, 'Thinly': 5, 'Vinegar': 5, 'Thins': 5, 'Crisps': 5, 'Natural': 4, 'Sweet': 4, 'Chives': 4, 'Lime': 4, 'Red': 4, 'Rock': 4, 'Deli': 4, 'Supreme': 4, 'Infuzions': 4, 'CCs': 3, 'Tortilla': 3, 'Old': 3, 'El': 3, 'Paso': 3, 'Dip': 3, 'Tomato': 3, 'Mild': 3, 'Sensations': 3, 'Twisties': 3, 'BBQ': 3, 'Swt': 3, 'Soy': 3, 'Cobs': 3, 'Popd': 3, 'Woolworths': 3, 'Tostitos': 3, 'Nacho': 2, 'S': 2, 'Onion': 2, 'Grain': 2, 'Waves': 2, 'Tangy': 2, 'Burger': 2, 'Rings': 2, 'Cheezels': 2, 'And': 2, 'Thai': 2, 'SR': 2, 'French': 2, 'ChipCo': 2, 'Smith': 2, 'Honey': 2, 'Tyrrells': 2, 'Lightly': 2, 'Salted': 2, 'Medium': 2, 'SourCream': 2, 'Chs': 2, 'Potato': 2, 'Cheetos': 2, 'Garlic': 2, 'Compny': 1, 'ChpsHny': 1, 'Jlpno': 1, 'Chili': 1, 'Mexican': 1, 'Jalapeno': 1, 'Siracha': 1, 'Light': 1, 'NCC': 1, 'Garden': 1, 'Southern': 1, 'Box': 1, 'Infzns': 1, 'Crn': 1, 'Crnchers': 1, 'Gcamole': 1, 'Sthrn': 1, 'FriedChicken': 1, 'Spcy': 1, 'Mzzrlla': 1, 'Originl': 1, 'saltd': 1, 'Sp': 1, 'Truffle': 1, 'Chli': 1, 'Mexicana': 1, 'OnionDip': 1, 'Hony': 1, 'Dorito': 1, 'Chp': 1, 'Roast': 1, 'Mozzarella': 1, 'Basil': 1, 'Pesto': 1, 'SweetChili': 1, 'PotatoMix': 1, 'Camembert': 1, 'Fig': 1, 'Mac': 1, 'N': 1, 'Seasonedchicken': 1, 'Rib': 1, 'Prawn': 1, 'Crackers': 1, 'GrnWves': 1, 'Plus': 1, 'Btroot': 1, 'Jam': 1, 'Pot': 1, 'Chnky': 1, 'Tom': 1, 'Chlli': 1, 'Sr': 1, 'Co': 1, 'Tmato': 1, 'Hrb': 1, 'Spce': 1, 'Fries': 1, 'Med': 1, 'Coconut': 1, 'Hot': 1, 'Spicy': 1, 'Crm': 1, 'Crnkle': 1, 'Orgnl': 1, 'Big': 1, 'Bag': 1, 'Maple': 1, 'D': 1, 'Style': 1, 'Crips': 1, 'Stacked': 1, 'CutSalt': 1, 'Barbecue': 1, 'Puffs': 1, 'Splash': 1, 'Of': 1, 'ChpsBtroot': 1, 'Ricotta': 1, 'Tasty': 1, 'Smoked': 1, 'Chipotle': 1, 'Barbeque': 1, 'Mystery': 1, 'Flavour': 1, 'Ched': 1, 'Snbts': 1, 'Whlgrn': 1, 'Cheddr': 1, 'Mstrd': 1, 'Bacon': 1, 'Balls': 1, 'Slt': 1, 'Vingar': 1, 'Herbs': 1, 'Veg': 1, 'Strws': 1, 'ChpsFeta': 1, 'Mango': 1, 'Chutny': 1, 'Papadums': 1, 'Steak': 1, 'Chimuchurri': 1, 'Sunbites': 1, 'Whlegrn': 1, 'Frch': 1, 'Onin': 1, 'Snag': 1, 'Sauce': 1, 'OnionStacked': 1, 'Pepper': 1, 'Vinegr': 1, 'Chikn': 1, 'Aioli': 1, 'Slow': 1, 'Rst': 1, 'Pork': 1, 'Belly': 1, 'Pc': 1, 'Bolognese': 1})\n",
      "0          Natural Chip        Compny SeaSalt175g\n",
      "1                        CCs Nacho Cheese    175g\n",
      "2          Smiths Crinkle Cut  Chips Chicken 170g\n",
      "3            Smiths Chip Thinly  SCreamOnion 175g\n",
      "4         Kettle Tortilla ChpsHnyJlpno Chili 150g\n",
      "                           ...                   \n",
      "264831    Kettle Sweet Chilli And Sour Cream 175g\n",
      "264832              Tostitos Splash Of  Lime 175g\n",
      "264833                   Doritos Mexicana    170g\n",
      "264834    Doritos Corn Chip Mexican Jalapeno 150g\n",
      "264835              Tostitos Splash Of  Lime 175g\n",
      "Name: PROD_NAME, Length: 246742, dtype: object\n"
     ]
    }
   ],
   "source": [
    "# Extracting chip products \n",
    "\n",
    "from collections import Counter\n",
    "import re\n",
    "\n",
    "product_words = Counter(re.findall(r'\\b[A-Za-z]+\\b', ' '.join(transaction_df['PROD_NAME'].unique())))\n",
    "\n",
    "print(product_words)\n",
    "\n",
    "# Remove digits and special characters\n",
    "filtered_words = {word: count for word, count in product_words.items() if word.isalpha()}\n",
    "\n",
    "sorted_words = sorted(filtered_words.items(), key=lambda x: x[1], reverse=True)\n",
    "\n",
    "# Remove salsa products and explicitly create a copy\n",
    "transaction_df = transaction_df[~transaction_df['PROD_NAME'].str.contains(\"salsa\", case=False)].copy()\n",
    "\n",
    "transaction_df[\"PROD_NAME\"] = transaction_df[\"PROD_NAME\"].str.replace(r\"[^a-zA-Z0-9 ]\", \"\", regex=True)\n",
    "print(transaction_df[\"PROD_NAME\"])"
   ]
  },
  {
   "cell_type": "code",
   "execution_count": 12,
   "metadata": {},
   "outputs": [
    {
     "name": "stdout",
     "output_type": "stream",
     "text": [
      "DATE              0\n",
      "STORE_NBR         0\n",
      "LYLTY_CARD_NBR    0\n",
      "TXN_ID            0\n",
      "PROD_NBR          0\n",
      "PROD_NAME         0\n",
      "PROD_QTY          0\n",
      "TOT_SALES         0\n",
      "dtype: int64\n"
     ]
    }
   ],
   "source": [
    "# Checking for nulls\n",
    "print(transaction_df.isnull().sum())"
   ]
  },
  {
   "cell_type": "code",
   "execution_count": 13,
   "metadata": {},
   "outputs": [
    {
     "name": "stdout",
     "output_type": "stream",
     "text": [
      "                                DATE      STORE_NBR  LYLTY_CARD_NBR  \\\n",
      "count                         246742  246742.000000    2.467420e+05   \n",
      "mean   2018-12-30 01:19:01.211467520     135.051098    1.355310e+05   \n",
      "min              2018-07-01 00:00:00       1.000000    1.000000e+03   \n",
      "25%              2018-09-30 00:00:00      70.000000    7.001500e+04   \n",
      "50%              2018-12-30 00:00:00     130.000000    1.303670e+05   \n",
      "75%              2019-03-31 00:00:00     203.000000    2.030840e+05   \n",
      "max              2019-06-30 00:00:00     272.000000    2.373711e+06   \n",
      "std                              NaN      76.787096    8.071528e+04   \n",
      "\n",
      "             TXN_ID       PROD_NBR       PROD_QTY      TOT_SALES  \n",
      "count  2.467420e+05  246742.000000  246742.000000  246742.000000  \n",
      "mean   1.351311e+05      56.351789       1.908062       7.321322  \n",
      "min    1.000000e+00       1.000000       1.000000       1.700000  \n",
      "25%    6.756925e+04      26.000000       2.000000       5.800000  \n",
      "50%    1.351830e+05      53.000000       2.000000       7.400000  \n",
      "75%    2.026538e+05      87.000000       2.000000       8.800000  \n",
      "max    2.415841e+06     114.000000     200.000000     650.000000  \n",
      "std    7.814772e+04      33.695428       0.659831       3.077828  \n",
      "       LYLTY_CARD_NBR\n",
      "count    7.263700e+04\n",
      "mean     1.361859e+05\n",
      "std      8.989293e+04\n",
      "min      1.000000e+03\n",
      "25%      6.620200e+04\n",
      "50%      1.340400e+05\n",
      "75%      2.033750e+05\n",
      "max      2.373711e+06\n"
     ]
    }
   ],
   "source": [
    "# Checking for outliers\n",
    "print(transaction_df.describe())\n",
    "print(purchase_df.describe())"
   ]
  },
  {
   "cell_type": "code",
   "execution_count": 14,
   "metadata": {},
   "outputs": [
    {
     "data": {
      "text/html": [
       "<div>\n",
       "<style scoped>\n",
       "    .dataframe tbody tr th:only-of-type {\n",
       "        vertical-align: middle;\n",
       "    }\n",
       "\n",
       "    .dataframe tbody tr th {\n",
       "        vertical-align: top;\n",
       "    }\n",
       "\n",
       "    .dataframe thead th {\n",
       "        text-align: right;\n",
       "    }\n",
       "</style>\n",
       "<table border=\"1\" class=\"dataframe\">\n",
       "  <thead>\n",
       "    <tr style=\"text-align: right;\">\n",
       "      <th></th>\n",
       "      <th>DATE</th>\n",
       "      <th>STORE_NBR</th>\n",
       "      <th>LYLTY_CARD_NBR</th>\n",
       "      <th>TXN_ID</th>\n",
       "      <th>PROD_NBR</th>\n",
       "      <th>PROD_NAME</th>\n",
       "      <th>PROD_QTY</th>\n",
       "      <th>TOT_SALES</th>\n",
       "    </tr>\n",
       "  </thead>\n",
       "  <tbody>\n",
       "    <tr>\n",
       "      <th>69762</th>\n",
       "      <td>2018-08-19</td>\n",
       "      <td>226</td>\n",
       "      <td>226000</td>\n",
       "      <td>226201</td>\n",
       "      <td>4</td>\n",
       "      <td>Dorito Corn Chp     Supreme 380g</td>\n",
       "      <td>200</td>\n",
       "      <td>650.0</td>\n",
       "    </tr>\n",
       "    <tr>\n",
       "      <th>69763</th>\n",
       "      <td>2019-05-20</td>\n",
       "      <td>226</td>\n",
       "      <td>226000</td>\n",
       "      <td>226210</td>\n",
       "      <td>4</td>\n",
       "      <td>Dorito Corn Chp     Supreme 380g</td>\n",
       "      <td>200</td>\n",
       "      <td>650.0</td>\n",
       "    </tr>\n",
       "  </tbody>\n",
       "</table>\n",
       "</div>"
      ],
      "text/plain": [
       "            DATE  STORE_NBR  LYLTY_CARD_NBR  TXN_ID  PROD_NBR  \\\n",
       "69762 2018-08-19        226          226000  226201         4   \n",
       "69763 2019-05-20        226          226000  226210         4   \n",
       "\n",
       "                              PROD_NAME  PROD_QTY  TOT_SALES  \n",
       "69762  Dorito Corn Chp     Supreme 380g       200      650.0  \n",
       "69763  Dorito Corn Chp     Supreme 380g       200      650.0  "
      ]
     },
     "execution_count": 14,
     "metadata": {},
     "output_type": "execute_result"
    }
   ],
   "source": [
    "# Product quantity appears to have an outlier\n",
    "# Investigate further the case where 200 packets of chips are bought in one transaction\n",
    "\n",
    "\n",
    "outliers = transaction_df[transaction_df['PROD_QTY'] == 200]\n",
    "outliers"
   ]
  },
  {
   "cell_type": "code",
   "execution_count": null,
   "metadata": {},
   "outputs": [
    {
     "data": {
      "text/html": [
       "<div>\n",
       "<style scoped>\n",
       "    .dataframe tbody tr th:only-of-type {\n",
       "        vertical-align: middle;\n",
       "    }\n",
       "\n",
       "    .dataframe tbody tr th {\n",
       "        vertical-align: top;\n",
       "    }\n",
       "\n",
       "    .dataframe thead th {\n",
       "        text-align: right;\n",
       "    }\n",
       "</style>\n",
       "<table border=\"1\" class=\"dataframe\">\n",
       "  <thead>\n",
       "    <tr style=\"text-align: right;\">\n",
       "      <th></th>\n",
       "      <th>DATE</th>\n",
       "      <th>STORE_NBR</th>\n",
       "      <th>LYLTY_CARD_NBR</th>\n",
       "      <th>TXN_ID</th>\n",
       "      <th>PROD_NBR</th>\n",
       "      <th>PROD_NAME</th>\n",
       "      <th>PROD_QTY</th>\n",
       "      <th>TOT_SALES</th>\n",
       "    </tr>\n",
       "  </thead>\n",
       "  <tbody>\n",
       "    <tr>\n",
       "      <th>69762</th>\n",
       "      <td>2018-08-19</td>\n",
       "      <td>226</td>\n",
       "      <td>226000</td>\n",
       "      <td>226201</td>\n",
       "      <td>4</td>\n",
       "      <td>Dorito Corn Chp     Supreme 380g</td>\n",
       "      <td>200</td>\n",
       "      <td>650.0</td>\n",
       "    </tr>\n",
       "    <tr>\n",
       "      <th>69763</th>\n",
       "      <td>2019-05-20</td>\n",
       "      <td>226</td>\n",
       "      <td>226000</td>\n",
       "      <td>226210</td>\n",
       "      <td>4</td>\n",
       "      <td>Dorito Corn Chp     Supreme 380g</td>\n",
       "      <td>200</td>\n",
       "      <td>650.0</td>\n",
       "    </tr>\n",
       "  </tbody>\n",
       "</table>\n",
       "</div>"
      ],
      "text/plain": [
       "            DATE  STORE_NBR  LYLTY_CARD_NBR  TXN_ID  PROD_NBR  \\\n",
       "69762 2018-08-19        226          226000  226201         4   \n",
       "69763 2019-05-20        226          226000  226210         4   \n",
       "\n",
       "                              PROD_NAME  PROD_QTY  TOT_SALES  \n",
       "69762  Dorito Corn Chp     Supreme 380g       200      650.0  \n",
       "69763  Dorito Corn Chp     Supreme 380g       200      650.0  "
      ]
     },
     "execution_count": 13,
     "metadata": {},
     "output_type": "execute_result"
    }
   ],
   "source": [
    "# There are two transactions where 200 packets of chips are bought in one transaction and both of these\n",
    "# transactions were by the same customer\n",
    "\n",
    "# Checking if this customer had other transactions\n",
    "\n",
    "transaction_df[transaction_df['LYLTY_CARD_NBR'] == 226000]"
   ]
  },
  {
   "cell_type": "code",
   "execution_count": null,
   "metadata": {},
   "outputs": [
    {
     "name": "stdout",
     "output_type": "stream",
     "text": [
      "                                DATE      STORE_NBR  LYLTY_CARD_NBR  \\\n",
      "count                         246740  246740.000000    2.467400e+05   \n",
      "mean   2018-12-30 01:18:58.448569344     135.050361    1.355303e+05   \n",
      "min              2018-07-01 00:00:00       1.000000    1.000000e+03   \n",
      "25%              2018-09-30 00:00:00      70.000000    7.001500e+04   \n",
      "50%              2018-12-30 00:00:00     130.000000    1.303670e+05   \n",
      "75%              2019-03-31 00:00:00     203.000000    2.030832e+05   \n",
      "max              2019-06-30 00:00:00     272.000000    2.373711e+06   \n",
      "std                              NaN      76.786971    8.071520e+04   \n",
      "\n",
      "             TXN_ID       PROD_NBR       PROD_QTY      TOT_SALES  \n",
      "count  2.467400e+05  246740.000000  246740.000000  246740.000000  \n",
      "mean   1.351304e+05      56.352213       1.906456       7.316113  \n",
      "min    1.000000e+00       1.000000       1.000000       1.700000  \n",
      "25%    6.756875e+04      26.000000       2.000000       5.800000  \n",
      "50%    1.351815e+05      53.000000       2.000000       7.400000  \n",
      "75%    2.026522e+05      87.000000       2.000000       8.800000  \n",
      "max    2.415841e+06     114.000000       5.000000      29.500000  \n",
      "std    7.814760e+04      33.695235       0.342499       2.474897  \n"
     ]
    }
   ],
   "source": [
    "# It looks like this customer has only two transactions over the year\n",
    "# It is not ordinary retail customer, let's remove the outliers\n",
    "\n",
    "excluded_customer = outliers['LYLTY_CARD_NBR'].iloc[0]\n",
    "\n",
    "transaction_df = transaction_df[transaction_df['LYLTY_CARD_NBR'] != excluded_customer]\n",
    "print(transaction_df.describe())"
   ]
  },
  {
   "cell_type": "code",
   "execution_count": 15,
   "metadata": {},
   "outputs": [
    {
     "data": {
      "text/html": [
       "<div>\n",
       "<style scoped>\n",
       "    .dataframe tbody tr th:only-of-type {\n",
       "        vertical-align: middle;\n",
       "    }\n",
       "\n",
       "    .dataframe tbody tr th {\n",
       "        vertical-align: top;\n",
       "    }\n",
       "\n",
       "    .dataframe thead th {\n",
       "        text-align: right;\n",
       "    }\n",
       "</style>\n",
       "<table border=\"1\" class=\"dataframe\">\n",
       "  <thead>\n",
       "    <tr style=\"text-align: right;\">\n",
       "      <th></th>\n",
       "      <th>DATE</th>\n",
       "      <th>Transaction_Count</th>\n",
       "    </tr>\n",
       "  </thead>\n",
       "  <tbody>\n",
       "    <tr>\n",
       "      <th>0</th>\n",
       "      <td>2018-07-01</td>\n",
       "      <td>663</td>\n",
       "    </tr>\n",
       "    <tr>\n",
       "      <th>1</th>\n",
       "      <td>2018-07-02</td>\n",
       "      <td>650</td>\n",
       "    </tr>\n",
       "    <tr>\n",
       "      <th>2</th>\n",
       "      <td>2018-07-03</td>\n",
       "      <td>674</td>\n",
       "    </tr>\n",
       "    <tr>\n",
       "      <th>3</th>\n",
       "      <td>2018-07-04</td>\n",
       "      <td>669</td>\n",
       "    </tr>\n",
       "    <tr>\n",
       "      <th>4</th>\n",
       "      <td>2018-07-05</td>\n",
       "      <td>660</td>\n",
       "    </tr>\n",
       "    <tr>\n",
       "      <th>...</th>\n",
       "      <td>...</td>\n",
       "      <td>...</td>\n",
       "    </tr>\n",
       "    <tr>\n",
       "      <th>359</th>\n",
       "      <td>2019-06-26</td>\n",
       "      <td>657</td>\n",
       "    </tr>\n",
       "    <tr>\n",
       "      <th>360</th>\n",
       "      <td>2019-06-27</td>\n",
       "      <td>669</td>\n",
       "    </tr>\n",
       "    <tr>\n",
       "      <th>361</th>\n",
       "      <td>2019-06-28</td>\n",
       "      <td>673</td>\n",
       "    </tr>\n",
       "    <tr>\n",
       "      <th>362</th>\n",
       "      <td>2019-06-29</td>\n",
       "      <td>703</td>\n",
       "    </tr>\n",
       "    <tr>\n",
       "      <th>363</th>\n",
       "      <td>2019-06-30</td>\n",
       "      <td>704</td>\n",
       "    </tr>\n",
       "  </tbody>\n",
       "</table>\n",
       "<p>364 rows × 2 columns</p>\n",
       "</div>"
      ],
      "text/plain": [
       "          DATE  Transaction_Count\n",
       "0   2018-07-01                663\n",
       "1   2018-07-02                650\n",
       "2   2018-07-03                674\n",
       "3   2018-07-04                669\n",
       "4   2018-07-05                660\n",
       "..         ...                ...\n",
       "359 2019-06-26                657\n",
       "360 2019-06-27                669\n",
       "361 2019-06-28                673\n",
       "362 2019-06-29                703\n",
       "363 2019-06-30                704\n",
       "\n",
       "[364 rows x 2 columns]"
      ]
     },
     "execution_count": 15,
     "metadata": {},
     "output_type": "execute_result"
    }
   ],
   "source": [
    "# Number of transaction lines over time\n",
    "transactions_by_day = transaction_df.groupby('DATE').size().reset_index(name='Transaction_Count')\n",
    "transactions_by_day "
   ]
  },
  {
   "cell_type": "code",
   "execution_count": 16,
   "metadata": {},
   "outputs": [
    {
     "data": {
      "image/png": "[encoded data removed]",
      "text/plain": [
       "<Figure size 1200x600 with 1 Axes>"
      ]
     },
     "metadata": {},
     "output_type": "display_data"
    }
   ],
   "source": [
    "# There is only 364 rows, meaning missing date\n",
    "# Let's see number of transactions over time and find missing date\n",
    "\n",
    "import matplotlib.pyplot as plt\n",
    "import seaborn as sns\n",
    "\n",
    "\n",
    "date_range = pd.date_range(start=\"2018-07-01\", end=\"2019-06-30\")\n",
    "all_dates = pd.DataFrame(date_range, columns=[\"DATE\"])\n",
    "transactions_by_day = all_dates.merge(transaction_df.groupby(\"DATE\").size().reset_index(name=\"N\"), on=\"DATE\", how=\"left\").fillna(0)\n",
    "\n",
    "\n",
    "plt.figure(figsize=(12, 6))\n",
    "sns.lineplot(data=transactions_by_day, x=\"DATE\", y=\"N\")\n",
    "plt.xticks(rotation=90)\n",
    "plt.title(\"Transactions over time\")\n",
    "plt.show()\n"
   ]
  },
  {
   "cell_type": "code",
   "execution_count": 17,
   "metadata": {},
   "outputs": [
    {
     "data": {
      "image/png": "[encoded data removed]",
      "text/plain": [
       "<Figure size 1200x600 with 1 Axes>"
      ]
     },
     "metadata": {},
     "output_type": "display_data"
    }
   ],
   "source": [
    "# We see increase in purchases and break in December\n",
    "# Let's Zoom in December and look at individual days\n",
    "\n",
    "december_data = transactions_by_day[transactions_by_day[\"DATE\"].dt.month == 12]\n",
    "plt.figure(figsize=(12, 6))\n",
    "sns.lineplot(data=december_data, x=\"DATE\", y=\"N\")\n",
    "plt.xticks(rotation=90)\n",
    "plt.xlabel(\"Day\")\n",
    "plt.ylabel(\"Number of transactions\")\n",
    "plt.title(\"Transactions over time - December\")\n",
    "plt.show()"
   ]
  },
  {
   "cell_type": "code",
   "execution_count": 18,
   "metadata": {},
   "outputs": [],
   "source": [
    "# We see that there are zero purchases on 25th of December, 2018, which is the Christmas day."
   ]
  }
 ],
 "metadata": {
  "kernelspec": {
   "display_name": "env",
   "language": "python",
   "name": "python3"
  },
  "language_info": {
   "codemirror_mode": {
    "name": "ipython",
    "version": 3
   },
   "file_extension": ".py",
   "mimetype": "text/x-python",
   "name": "python",
   "nbconvert_exporter": "python",
   "pygments_lexer": "ipython3",
   "version": "3.13.2"
  }
 },
 "nbformat": 4,
 "nbformat_minor": 2
}
